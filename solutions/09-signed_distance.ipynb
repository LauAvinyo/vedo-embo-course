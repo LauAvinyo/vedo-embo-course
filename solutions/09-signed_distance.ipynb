{
 "cells": [
  {
   "cell_type": "code",
   "execution_count": 1,
   "metadata": {},
   "outputs": [],
   "source": [
    "from vedo import *\n",
    "\n",
    "settings.default_backend = \"vtk\""
   ]
  },
  {
   "cell_type": "code",
   "execution_count": 2,
   "metadata": {},
   "outputs": [],
   "source": [
    "msh = Mesh(dataurl + \"panther.stl\")\n",
    "\n",
    "vol = msh.signed_distance(dims=[25,125,25])\n",
    "iso = vol.isosurface(0.0)"
   ]
  },
  {
   "cell_type": "code",
   "execution_count": 3,
   "metadata": {},
   "outputs": [],
   "source": [
    "plt = Plotter()\n",
    "plt += iso.wireframe()\n",
    "\n",
    "for i in range(0, 25, 5):\n",
    "    plt += vol.xslice(i).cmap(\"jet\")\n",
    "\n",
    "vol.write(\"panther.tif\")\n",
    "plt.show(axes=1)\n",
    "plt.close()"
   ]
  }
 ],
 "metadata": {
  "kernelspec": {
   "display_name": ".venv",
   "language": "python",
   "name": "python3"
  },
  "language_info": {
   "codemirror_mode": {
    "name": "ipython",
    "version": 3
   },
   "file_extension": ".py",
   "mimetype": "text/x-python",
   "name": "python",
   "nbconvert_exporter": "python",
   "pygments_lexer": "ipython3",
   "version": "3.9.6"
  },
  "orig_nbformat": 4
 },
 "nbformat": 4,
 "nbformat_minor": 2
}
