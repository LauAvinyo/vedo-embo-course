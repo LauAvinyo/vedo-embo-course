{
 "cells": [
  {
   "cell_type": "code",
   "execution_count": 1,
   "metadata": {},
   "outputs": [],
   "source": [
    "from vedo import *\n",
    "\n",
    "settings.default_backend = \"vtk\""
   ]
  },
  {
   "cell_type": "code",
   "execution_count": 2,
   "metadata": {},
   "outputs": [
    {
     "name": "stdout",
     "output_type": "stream",
     "text": [
      "\u001b[2m\u001b[7m\u001b[1m\u001b[32mMesh/Points                                                           \u001b[0m\n",
      "\u001b[1m\u001b[32mfile name     : \u001b[0m\u001b[32m../data/mouse_limb_a.stl\u001b[0m\n",
      "\u001b[1m\u001b[32mcolor         : \u001b[0m\u001b[32mred5, rgb=(0.863, 0.208, 0.271), alpha=1.0\u001b[0m\n",
      "\u001b[1m\u001b[32mpoints        : 37302\u001b[0m\n",
      "\u001b[1m\u001b[32mpolygons      : 73951\u001b[0m\n",
      "\u001b[1m\u001b[32mposition      : (0.0, 0.0, 0.0)\u001b[0m\n",
      "\u001b[1m\u001b[32mscale         :\u001b[0m \u001b[32m(1.00, 1.00, 1.00)\u001b[0m\n",
      "\u001b[1m\u001b[32mcenter of mass:\u001b[0m \u001b[32m(593, 886, 581)\u001b[0m\n",
      "\u001b[1m\u001b[32maverage size  :\u001b[0m \u001b[32m465.434\u001b[0m\n",
      "\u001b[1m\u001b[32mdiagonal size :\u001b[0m \u001b[32m1884.25\u001b[0m\n",
      "\u001b[1m\u001b[32mbounds        :\u001b[0m \u001b[32mx=(-1.24, 1.02e+3)\u001b[0m\u001b[32m y=(129, 1.34e+3)\u001b[0m\u001b[32m z=(-1.25, 1.02e+3)\u001b[0m\n",
      "\u001b[1m\u001b[32mmesh data     :\u001b[0m \u001b[32mno point or cell data is present.\u001b[0m\n",
      "\u001b[1m\u001b[32mclicked point : (824.068, 1253.41, 741.986) pointID=24214, cellID=47611\u001b[0m\n"
     ]
    }
   ],
   "source": [
    "mesh_a = Mesh('../data/mouse_limb_a.stl').c(\"red5\")\n",
    "mesh_b = Mesh('../data/mouse_limb_b.stl').c(\"green5\")\n",
    "\n",
    "# Here user clicks on mesh A and then B to pick 5+5 landmarks\n",
    "show(\"Click meshes & press i\", mesh_a, mesh_b).clear().close()"
   ]
  },
  {
   "cell_type": "code",
   "execution_count": 3,
   "metadata": {},
   "outputs": [],
   "source": [
    "# This shows that automatic alignment may be not good enough:\n",
    "# make a copy and align it to mesh B with ICP\n",
    "# mesh_fail = mesh_a.clone().align_to(mesh_b, rigid=True)\n",
    "# show(\"ICP alignment is not good enough!\", mesh_fail, mesh_b).clear()\n",
    "\n"
   ]
  },
  {
   "cell_type": "code",
   "execution_count": 4,
   "metadata": {},
   "outputs": [],
   "source": [
    "# Warp A to match B using the manually picked landmarks:\n",
    "pts_a = [\n",
    "    (490.395, 145.306, 891.946),\n",
    "    (290.923, 913.594, 279.837),\n",
    "    (651.440, 836.449, 775.404),\n",
    "    (771.368, 310.359, 465.300),\n",
    "    (266.866, 390.811, 941.395),\n",
    "]\n",
    "\n",
    "pts_b = [\n",
    "    (1735.77, 538.276, 524.379),\n",
    "    (1680.17, 1468.45, 644.959),\n",
    "    (1693.76, 1164.16, 140.946),\n",
    "    (1297.26, 904.027, 415.989),\n",
    "    (2036.56, 763.552, 477.475)\n",
    "]"
   ]
  },
  {
   "cell_type": "code",
   "execution_count": 5,
   "metadata": {},
   "outputs": [],
   "source": [
    "\n",
    "if len(pts_a) > 3:\n",
    "    # Make a copy and warp it\n",
    "    aligned_mesh = mesh_a.clone().warp(pts_a, pts_b)\n",
    "\n",
    "    # Create arrows to show the displacement\n",
    "    arrows = Lines(pts_a, pts_b)\n",
    "\n",
    "    # Compute the distance between the two meshes\n",
    "    mesh_b.distance_to(mesh_a)\n",
    "    mesh_b.cmap(\"coolwarm\").add_scalarbar()\n",
    "    mesh_a.alpha(0.2)  # make mesh A very transparent\n",
    "\n",
    "    # Show all the objects in one go\n",
    "    show(\"Warping Result\", mesh_a, aligned_mesh, mesh_b, arrows).close()\n"
   ]
  }
 ],
 "metadata": {
  "kernelspec": {
   "display_name": ".venv",
   "language": "python",
   "name": "python3"
  },
  "language_info": {
   "codemirror_mode": {
    "name": "ipython",
    "version": 3
   },
   "file_extension": ".py",
   "mimetype": "text/x-python",
   "name": "python",
   "nbconvert_exporter": "python",
   "pygments_lexer": "ipython3",
   "version": "3.9.6"
  },
  "orig_nbformat": 4
 },
 "nbformat": 4,
 "nbformat_minor": 2
}
