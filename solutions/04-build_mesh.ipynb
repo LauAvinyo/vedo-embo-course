{
 "cells": [
  {
   "cell_type": "code",
   "execution_count": 1,
   "metadata": {},
   "outputs": [],
   "source": [
    "from vedo import *\n",
    "settings.default_backend = \"vtk\"  # or k3d, ipyvtk, or 2d"
   ]
  },
  {
   "attachments": {},
   "cell_type": "markdown",
   "metadata": {},
   "source": [
    "This code demonstrates how to create and display a 3D Mesh object.\n",
    "- The Mesh object is created from a list of vertices and a list of faces.\n",
    "- The backface color is set to violet, and vertex labels are generated for each vertex.\n",
    "- The mesh object's vertices and faces are printed to the console,\n",
    "and the mesh is displayed in a 3D visualization window along with\n",
    "the vertex labels and coordinate axes."
   ]
  },
  {
   "cell_type": "code",
   "execution_count": 4,
   "metadata": {},
   "outputs": [],
   "source": [
    "# Define a list of vertices and a list of faces to represent a 3D mesh:\n",
    "# The vertices are 3D points defined by their (x, y, z) coordinates\n",
    "# The faces are defined by the indices of the vertices that form each triangle\n",
    "# For example, the first triangle face is formed by vertex 0, 1, and 2\n",
    "verts = [(50, 50, 50), (70, 40, 50), (50, 40, 80), (80, 70, 50)]\n",
    "faces = [(0, 1, 2), (2, 1, 3), (1, 0, 3)]"
   ]
  },
  {
   "cell_type": "code",
   "execution_count": 10,
   "metadata": {},
   "outputs": [],
   "source": [
    "# Create a polygonal Mesh object using the vertices and faces lists\n",
    "mesh = Mesh([verts, faces])\n",
    "\n",
    "# Set the backface color of the mesh to violet\n",
    "mesh.backcolor(\"violet\")\n",
    "\n",
    "# Assign numerical labels (vertex indices) to the vertices of the mesh\n",
    "# These labels are displayed as text next to the vertices in the visualization\n",
    "labels = mesh.labels2d(\"id\")"
   ]
  },
  {
   "cell_type": "code",
   "execution_count": 11,
   "metadata": {},
   "outputs": [
    {
     "name": "stdout",
     "output_type": "stream",
     "text": [
      "points(): [[50. 50. 50.]\n",
      " [70. 40. 50.]\n",
      " [50. 40. 80.]\n",
      " [80. 70. 50.]]\n",
      "faces() : [[0, 1, 2], [2, 1, 3], [1, 0, 3]]\n"
     ]
    }
   ],
   "source": [
    "# Print information about the mesh:\n",
    "# points(): returns the list of vertices (points) of the mesh\n",
    "# faces() : returns the list of faces (triangles) of the mesh\n",
    "print(\"points():\", mesh.points())\n",
    "print(\"faces() :\", mesh.faces())\n"
   ]
  },
  {
   "cell_type": "code",
   "execution_count": 9,
   "metadata": {},
   "outputs": [
    {
     "data": {
      "text/html": [
       "<table>\n",
       "<tr>\n",
       "<td>\n",
       "<img src='data:image/png;base64,iVBORw0KGgoAAAANSUhEUgAAAMgAAADICAIAAAAiOjnJAAAGeUlEQVR4nO3dMW6UVxSG4c8ok+Chw4jsABALCNmA25R0SYEiLyEboKNgBVB5CymzgaQHRGfckUixLSN7ggWTYoRlDfZ45p977j3n3PetbMvS7+LRdzyy5NmYTqciKt2N1j8A5QxYZBKwyCRgkUnAIpOARSYBi0wCFpkELDIJWGQSsMgkYJFJwCKTgEUmAYtMAhaZBCwyCVhkErDIJGCRScAik4BFJgGLTAIWmQQsMglYZBKwyCRgkUnAIpOARSYBi0wCFpkELDIJWGQSsMgkYJFJwCKTgEUmASt5u882mjwXWJlrpUrSN60eTKYdPD34/bvbkn7+rc0bRLBYCTtX1TAWK1UHTw8kNVclFitTX6tqdQfFYuVoRko+tmoWixU+h6rEYoXunJQuU9XwDorFittiVc1jseJ1kZRcqhKLFa4lVbW9g2KxAjVHSl63ahaLFaNYqsRi+e9rUrpOVfM7KBbLeQNUOYnFctqlpBRElVgsn62jysMdFIvlratIKc5WzWKxHJVGlVgsJy0gpVVUObmDYrE8VEqVq1isli0mpbCqxGI1rLgqP3dQLFaTriWlyFs1i8WqXQ+qxGLVbBlSGqrK1R0Ui1UtU1UOY7HMW5KUEqkSi2VdHVXe7qBYLLuWJ6VcWzWLxTKpc1VisYq3EimVUOXwDorFKlt9VW5jscq0KimlViUWq0gNVfm8g2Kx1mwAKWXfqlks1vBQtSAWa0jDSKm0Krd3UCzWgJyoch6LtUKDSakzVWKxls+bKs93UCzWMq1DSv1t1SwW65pQNSwW68rWJCVLVc7voFisq/KsKkQs1nzrk1L3qsRizRVClf87KBbrvCKkxFZ9icWSUGVQ74tVipRqqQpxB9X5YoVTFahOF6sgKaHqsnpcrLiqotxB9bZYZUmJrbq6jhYLVTXrYrGKk1ILVYHuoHpYrByqwpV5sSxICVXLlXaxkqmKdQeVcrGMSImtWqVsi4UqJ+VZLDtSaq0q3B1UmsVKrCpo4RfLlJRQNbTYi9WDqoh3UHEXy5qUfKiKW8jFQpX/gi1WBVLypCroHVSsxepNVehiLFYdUkJVuQIsVreq4t5BOV+saqTkT1X0/C4WqkLncbFqkpJXVaHvoBwuFqpy5GixKpMSqizzslioulj0OygPi1WflHyrylHjxUJV1potVhNSiqAqwR1Uq8V68sOTt/+8rf9c/6rS1ADW9r3to8nR3r97r96/qvlcVNVsYzqtPbzb97bPPx5/O94ab+082rl/977pQ6OoynEH1fxV4cnHk9GN0d7B3qfpp4ffPzR6ShRVmaq9WBfnaq7xaHz71u2dRzsP7j4o+MRYqlis8p2cnYwmo3cH7z5PP5daL1S1yhEsSUeTo5d/vZS0OdrcurW15nrFUpWsqq8KF9zBuU7PTo8nx/uH+6/fvx72LFS1rervWMvDutjmaHNrvLXz4wrrFVFVpjuo5n/SWabTs9Pj/473D/ffvH+zzPdHVJWveos1bK7mujm6eWd8Z8F6xVXFYrVscjY5/ni8f7j/5u9L1gtVfvL1qnCZjk6PXvz5Ql/W6/lPz2dfj6sqZZUWq8gdnGtyNvnw8cPj3cdClb+CncK5Dk8PFV9Vvjuo6LAk/fLrH61/BLqkGrAs7uAsVLkt8GLlUJXyDiourByqEmcOy+IOosp/8RYrk6qsd1DhYGVSlTtbWGXvIKoCFWax8qlKfAcVBVY+VekzhFXqDqIqYt4XK6uq3HdQdrCKzFVWVT3kd7FQFTqnsHKrSn8HZQRrzTuYW1UnuVssVOXIF6weVPVwB2UBa/Ad7EFVP3lZLFQlywWsflR1cgdVHNaAO9iPqq5qvFioylpLWL2p6ucOqiysle5gb6p6q81ioSp9Df4pSIequjqCs4rBWvIOdqKqQ0lzVV2sxKqQNFc9WMlUIWlxZWBdewdzqALT8tVYrLiqkDQ4c1ixVCGpVAVgLbiD/lUhySjDxfKpCkl1soLlShWY6rcurEvvYHNVSGpe+cVqogpJ3ioMq5oqJDlvLVhzd9BUFZJiVWyxLFSBKW7DYV2cq1KqkJSmAou1jiokZW1dWKuqQlInDYQ1u4PLqEJSnw1frAWqwEQD37p399nGxU+RRHMNWazdZxtIosXVe7Nx6ioX/xSE8gUsMglYZBKwyCRgkUnAIpOARSYBi0wCFpkELDIJWGQSsMgkYJFJwCKTgEUmAYtM+h+gYkm44bCZWwAAAABJRU5ErkJggg=='></img>\n",
       "</td>\n",
       "<td style='text-align: center; vertical-align: center;'><br/>\n",
       "<b><a href=\"https://vedo.embl.es/docs/vedo/mesh.html\" target=\"_blank\">vedo.mesh.Mesh</a></b>\n",
       "<table>\n",
       "<tr><td><b> bounds </b> <br/> (x/y/z) </td><td>50.00 ... 80.00<br/>40.00 ... 70.00<br/>50.00 ... 80.00</td></tr>\n",
       "<tr><td><b> center of mass </b></td><td>(62.5, 50.0, 57.5)</td></tr>\n",
       "<tr><td><b> average size </b></td><td>21.095</td></tr>\n",
       "<tr><td><b> nr. points&nbsp/&nbspfaces </b></td><td>4&nbsp/&nbsp3</td></tr>\n",
       "\n",
       "\n",
       "</table>\n",
       "</table>"
      ],
      "text/plain": [
       "<Mesh(0x135db7580) at 0x105705520>"
      ]
     },
     "execution_count": 9,
     "metadata": {},
     "output_type": "execute_result"
    }
   ],
   "source": [
    "mesh"
   ]
  },
  {
   "cell_type": "code",
   "execution_count": 12,
   "metadata": {},
   "outputs": [],
   "source": [
    "# Display the mesh and the vertex labels in a 3D visualization window\n",
    "# axes=1 enables display of the cartesian axes\n",
    "show(mesh, labels, axes=1).close()"
   ]
  }
 ],
 "metadata": {
  "kernelspec": {
   "display_name": ".venv",
   "language": "python",
   "name": "python3"
  },
  "language_info": {
   "codemirror_mode": {
    "name": "ipython",
    "version": 3
   },
   "file_extension": ".py",
   "mimetype": "text/x-python",
   "name": "python",
   "nbconvert_exporter": "python",
   "pygments_lexer": "ipython3",
   "version": "3.9.6"
  },
  "orig_nbformat": 4
 },
 "nbformat": 4,
 "nbformat_minor": 2
}
