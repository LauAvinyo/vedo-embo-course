{
 "cells": [
  {
   "cell_type": "code",
   "execution_count": 1,
   "metadata": {},
   "outputs": [],
   "source": [
    "from vedo import *\n",
    "settings.default_backend = \"vtk\"  # or k3d, ipyvtk, or 2d"
   ]
  },
  {
   "cell_type": "markdown",
   "metadata": {},
   "source": [
    "This code demonstrates how to create and display a 3D Mesh object.\n",
    "- The Mesh object is created from a list of vertices and a list of faces.\n",
    "- The backface color is set to violet, and vertex labels are generated for each vertex.\n",
    "- The mesh object's vertices and faces are printed to the console,\n",
    "and the mesh is displayed in a 3D visualization window along with\n",
    "the vertex labels and coordinate axes."
   ]
  },
  {
   "cell_type": "code",
   "execution_count": 2,
   "metadata": {},
   "outputs": [],
   "source": [
    "# Define a list of vertices and a list of faces to represent a 3D mesh:\n",
    "# The vertices are 3D points defined by their (x, y, z) coordinates\n",
    "# The faces are defined by the indices of the vertices that form each triangle\n",
    "# For example, the first triangle face is formed by vertex 0, 1, and 2\n",
    "verts = [(50, 50, 50), (70, 40, 50), (50, 40, 80), (80, 70, 50)]\n",
    "faces = [(0, 1, 2), (2, 1, 3), (1, 0, 3)]"
   ]
  },
  {
   "cell_type": "code",
   "execution_count": 3,
   "metadata": {},
   "outputs": [],
   "source": [
    "# Create a polygonal Mesh object using the vertices and faces lists\n",
    "mesh = Mesh([verts, faces])\n",
    "\n",
    "# Set the backface color of the mesh to violet\n",
    "mesh.backcolor(\"violet\")\n",
    "\n",
    "# Assign numerical labels (vertex indices) to the vertices of the mesh\n",
    "# These labels are displayed as text next to the vertices in the visualization\n",
    "labels = mesh.labels2d(\"id\")"
   ]
  },
  {
   "cell_type": "code",
   "execution_count": 6,
   "metadata": {},
   "outputs": [
    {
     "name": "stdout",
     "output_type": "stream",
     "text": [
      "vertices: [[50. 50. 50.]\n",
      " [70. 40. 50.]\n",
      " [50. 40. 80.]\n",
      " [80. 70. 50.]]\n",
      "cells   : [[0, 1, 2], [2, 1, 3], [1, 0, 3]]\n"
     ]
    }
   ],
   "source": [
    "# Print information about the mesh:\n",
    "# points(): returns the list of vertices (points) of the mesh\n",
    "# faces() : returns the list of faces (triangles) of the mesh\n",
    "print(\"vertices:\", mesh.vertices)\n",
    "print(\"cells   :\", mesh.cells)"
   ]
  },
  {
   "cell_type": "code",
   "execution_count": 7,
   "metadata": {},
   "outputs": [
    {
     "data": {
      "text/html": [
       "<table>\n",
       "<tr>\n",
       "<td>\n",
       "<img src='data:image/png;base64,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'></img>\n",
       "</td>\n",
       "<td style='text-align: center; vertical-align: center;'><br/>\n",
       "<b><a href=\"https://vedo.embl.es/docs/vedo/mesh.html\" target=\"_blank\">vedo.mesh.Mesh</a></b>\n",
       "<table>\n",
       "<tr><td><b> bounds </b> <br/> (x/y/z) </td><td>50.00 ... 80.00<br/>40.00 ... 70.00<br/>50.00 ... 80.00</td></tr>\n",
       "<tr><td><b> center of mass </b></td><td>(62.5, 50.0, 57.5)</td></tr>\n",
       "<tr><td><b> average size </b></td><td>21.095</td></tr>\n",
       "<tr><td><b> nr. points&nbsp/&nbspfaces </b></td><td>4&nbsp/&nbsp3</td></tr>\n",
       "\n",
       "\n",
       "</table>\n",
       "</table>"
      ],
      "text/plain": [
       "<vedo.mesh.Mesh at 0x7f5b4bdefe50>"
      ]
     },
     "execution_count": 7,
     "metadata": {},
     "output_type": "execute_result"
    }
   ],
   "source": [
    "mesh"
   ]
  },
  {
   "cell_type": "code",
   "execution_count": 8,
   "metadata": {},
   "outputs": [],
   "source": [
    "# Display the mesh and the vertex labels in a 3D visualization window\n",
    "# axes=1 enables display of the cartesian axes\n",
    "show(mesh, labels, axes=1).close()"
   ]
  },
  {
   "cell_type": "code",
   "execution_count": null,
   "metadata": {},
   "outputs": [],
   "source": []
  }
 ],
 "metadata": {
  "kernelspec": {
   "display_name": "Python 3 (ipykernel)",
   "language": "python",
   "name": "python3"
  },
  "language_info": {
   "codemirror_mode": {
    "name": "ipython",
    "version": 3
   },
   "file_extension": ".py",
   "mimetype": "text/x-python",
   "name": "python",
   "nbconvert_exporter": "python",
   "pygments_lexer": "ipython3",
   "version": "3.10.10"
  }
 },
 "nbformat": 4,
 "nbformat_minor": 2
}
