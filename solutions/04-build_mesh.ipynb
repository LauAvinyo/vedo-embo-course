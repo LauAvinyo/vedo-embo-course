{
 "cells": [
  {
   "cell_type": "code",
   "execution_count": null,
   "metadata": {},
   "outputs": [],
   "source": [
    "from vedo import *\n",
    "settings.default_backend = \"vtk\"  # or k3d, ipyvtk, or 2d"
   ]
  },
  {
   "attachments": {},
   "cell_type": "markdown",
   "metadata": {},
   "source": [
    "This code demonstrates how to create and display a 3D Mesh object.\n",
    "- The Mesh object is created from a list of vertices and a list of faces.\n",
    "- The backface color is set to violet, and vertex labels are generated for each vertex.\n",
    "- The mesh object's vertices and faces are printed to the console,\n",
    "and the mesh is displayed in a 3D visualization window along with\n",
    "the vertex labels and coordinate axes."
   ]
  },
  {
   "cell_type": "code",
   "execution_count": null,
   "metadata": {},
   "outputs": [],
   "source": [
    "# Define a list of vertices and a list of faces to represent a 3D mesh:\n",
    "# The vertices are 3D points defined by their (x, y, z) coordinates\n",
    "# The faces are defined by the indices of the vertices that form each triangle\n",
    "# For example, the first triangle face is formed by vertex 0, 1, and 2\n",
    "verts = [(50, 50, 50), (70, 40, 50), (50, 40, 80), (80, 70, 50)]\n",
    "faces = [(0, 1, 2), (2, 1, 3), (1, 0, 3)]"
   ]
  },
  {
   "cell_type": "code",
   "execution_count": null,
   "metadata": {},
   "outputs": [],
   "source": [
    "# Create a polygonal Mesh object using the vertices and faces lists\n",
    "mesh = Mesh([verts, faces])\n",
    "\n",
    "# Set the backface color of the mesh to violet\n",
    "mesh.backcolor(\"violet\")\n",
    "\n",
    "# Assign numerical labels (vertex indices) to the vertices of the mesh\n",
    "# These labels are displayed as text next to the vertices in the visualization\n",
    "labels = mesh.labels2d(\"id\")"
   ]
  },
  {
   "cell_type": "code",
   "execution_count": null,
   "metadata": {},
   "outputs": [],
   "source": [
    "# Print information about the mesh:\n",
    "# points(): returns the list of vertices (points) of the mesh\n",
    "# faces() : returns the list of faces (triangles) of the mesh\n",
    "print(\"points():\", mesh.points())\n",
    "print(\"faces() :\", mesh.faces())\n"
   ]
  },
  {
   "cell_type": "code",
   "execution_count": null,
   "metadata": {},
   "outputs": [],
   "source": [
    "mesh"
   ]
  },
  {
   "cell_type": "code",
   "execution_count": null,
   "metadata": {},
   "outputs": [],
   "source": [
    "# Display the mesh and the vertex labels in a 3D visualization window\n",
    "# axes=1 enables display of the cartesian axes\n",
    "show(mesh, labels, axes=1).close()"
   ]
  }
 ],
 "metadata": {
  "kernelspec": {
   "display_name": ".venv",
   "language": "python",
   "name": "python3"
  },
  "language_info": {
   "codemirror_mode": {
    "name": "ipython",
    "version": 3
   },
   "file_extension": ".py",
   "mimetype": "text/x-python",
   "name": "python",
   "nbconvert_exporter": "python",
   "pygments_lexer": "ipython3",
   "version": "3.9.6"
  },
  "orig_nbformat": 4
 },
 "nbformat": 4,
 "nbformat_minor": 2
}
