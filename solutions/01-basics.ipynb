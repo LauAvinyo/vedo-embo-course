{
 "cells": [
  {
   "cell_type": "code",
   "execution_count": 1,
   "metadata": {},
   "outputs": [],
   "source": [
    "from vedo import *\n",
    "\n",
    "settings.default_backend = \"vtk\"  # or k3d, ipyvtk, or 2d"
   ]
  },
  {
   "attachments": {},
   "cell_type": "markdown",
   "metadata": {},
   "source": [
    "# 1. Basics of Vedo"
   ]
  },
  {
   "cell_type": "code",
   "execution_count": 5,
   "metadata": {},
   "outputs": [],
   "source": [
    "plt = Plotter()\n",
    "plt.show()\n",
    "plt.close()"
   ]
  },
  {
   "cell_type": "code",
   "execution_count": 2,
   "metadata": {},
   "outputs": [],
   "source": [
    "sphere = Sphere().linewidth(1)\n",
    "plt = Plotter()\n",
    "plt += sphere\n",
    "plt.show()\n",
    "plt.close()"
   ]
  },
  {
   "cell_type": "code",
   "execution_count": 27,
   "metadata": {},
   "outputs": [],
   "source": [
    "# We can add multiple objects:\n",
    "\n",
    "plt = Plotter()\n",
    "\n",
    "# Add a sphere\n",
    "sphere = Sphere(r=1.5).c(\"red\", 0.2)\n",
    "\n",
    "# Add a box\n",
    "box = Box(pos=(1, 0, 0)).triangulate().c(\"green\", 0.2) \n",
    "\n",
    "# We can get its intersection\n",
    "intersection = sphere.intersect_with(box).linewidth(4).c(\"black\")\n",
    "\n",
    "plt += sphere\n",
    "plt += box\n",
    "plt += intersection\n",
    "\n",
    "plt.show()\n",
    "plt.close()"
   ]
  }
 ],
 "metadata": {
  "kernelspec": {
   "display_name": ".venv",
   "language": "python",
   "name": "python3"
  },
  "language_info": {
   "codemirror_mode": {
    "name": "ipython",
    "version": 3
   },
   "file_extension": ".py",
   "mimetype": "text/x-python",
   "name": "python",
   "nbconvert_exporter": "python",
   "pygments_lexer": "ipython3",
   "version": "3.9.6"
  },
  "orig_nbformat": 4
 },
 "nbformat": 4,
 "nbformat_minor": 2
}
