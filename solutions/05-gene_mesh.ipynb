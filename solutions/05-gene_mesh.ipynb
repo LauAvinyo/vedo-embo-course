{
 "cells": [
  {
   "cell_type": "code",
   "execution_count": 1,
   "metadata": {},
   "outputs": [],
   "source": [
    "from vedo import *\n",
    "\n",
    "settings.default_backend = \"vtk\"  # or k3d, ipyvtk, or 2d"
   ]
  },
  {
   "cell_type": "code",
   "execution_count": 2,
   "metadata": {},
   "outputs": [],
   "source": [
    "# NOTE! This may not work in other OS!\n",
    "\n",
    "# Gene expression data\n",
    "gene_path = '../data/sox9_data/gene_data.npy'\n",
    "\n",
    "# Mesh data\n",
    "faces_path = '../data/sox9_data/mesh_faces.npy'\n",
    "verts_path = '../data/sox9_data/mesh_nodes.npy'"
   ]
  },
  {
   "cell_type": "code",
   "execution_count": 3,
   "metadata": {},
   "outputs": [],
   "source": [
    "# Read data\n",
    "faces = np.load(faces_path)\n",
    "verts = np.load(verts_path)"
   ]
  },
  {
   "cell_type": "code",
   "execution_count": 4,
   "metadata": {},
   "outputs": [],
   "source": [
    "# Get the mesh \n",
    "msh = Mesh([verts, faces]).linewidth(1)\n",
    "\n",
    "plt = Plotter(size=(1600, 1200), bg=\"#282a36\")\n",
    "plt += msh\n",
    "plt.show()\n",
    "plt.close()"
   ]
  },
  {
   "cell_type": "code",
   "execution_count": 5,
   "metadata": {},
   "outputs": [],
   "source": [
    "# Adding scalar values\n",
    "n = faces.shape[0] # number of faces\n",
    "values = np.random.random(n)\n",
    "msh.celldata[\"fake_data\"] = values\n",
    "\n",
    "msh.cmap(\"viridis\")\n",
    "msh.linewidth(0)\n",
    "plt = Plotter(size=(1600, 1200), bg=\"#282a36\")\n",
    "plt += msh\n",
    "plt.show()\n",
    "plt.close()"
   ]
  },
  {
   "cell_type": "code",
   "execution_count": 6,
   "metadata": {},
   "outputs": [],
   "source": [
    "values = np.load(gene_path)\n",
    "\n",
    "msh.celldata[\"gene_data\"] = values\n",
    "msh.cmap(\"viridis\")\n",
    "\n",
    "plt = Plotter(size=(1600, 1200), bg=\"#282a36\")\n",
    "plt += msh\n",
    "plt.show()\n",
    "plt.close()"
   ]
  }
 ],
 "metadata": {
  "kernelspec": {
   "display_name": ".venv",
   "language": "python",
   "name": "python3"
  },
  "language_info": {
   "codemirror_mode": {
    "name": "ipython",
    "version": 3
   },
   "file_extension": ".py",
   "mimetype": "text/x-python",
   "name": "python",
   "nbconvert_exporter": "python",
   "pygments_lexer": "ipython3",
   "version": "3.9.6"
  },
  "orig_nbformat": 4
 },
 "nbformat": 4,
 "nbformat_minor": 2
}
