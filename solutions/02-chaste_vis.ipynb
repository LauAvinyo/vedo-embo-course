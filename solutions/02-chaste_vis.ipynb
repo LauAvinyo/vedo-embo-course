{
 "cells": [
  {
   "cell_type": "code",
   "execution_count": 1,
   "metadata": {},
   "outputs": [],
   "source": [
    "from vedo import *\n",
    "from vedo import load\n",
    "from vedo.applications import Browser\n",
    "\n",
    "settings.default_backend = \"vtk\"  # or k3d, ipyvtk, or 2d"
   ]
  },
  {
   "cell_type": "code",
   "execution_count": 2,
   "metadata": {},
   "outputs": [],
   "source": [
    "# Note! In diferent os this will change!\n",
    "data_path = \"../data/chaste/Practical_2_3/results_*.vtu\""
   ]
  },
  {
   "cell_type": "code",
   "execution_count": 3,
   "metadata": {},
   "outputs": [],
   "source": [
    "Browser(data_path).show().close()"
   ]
  },
  {
   "cell_type": "code",
   "execution_count": 4,
   "metadata": {},
   "outputs": [],
   "source": [
    "ugrids = load(data_path)\n",
    "\n",
    "meshes = []\n",
    "for u in ugrids:\n",
    "    m = u.alpha(1).tomesh().linewidth(1)\n",
    "    m.cmap(\"viridis_r\", vmin=0.2, vmax=2) # Note!\n",
    "    meshes.append(m)\n",
    "\n",
    "Browser(meshes).show().close()"
   ]
  }
 ],
 "metadata": {
  "kernelspec": {
   "display_name": ".venv",
   "language": "python",
   "name": "python3"
  },
  "language_info": {
   "codemirror_mode": {
    "name": "ipython",
    "version": 3
   },
   "file_extension": ".py",
   "mimetype": "text/x-python",
   "name": "python",
   "nbconvert_exporter": "python",
   "pygments_lexer": "ipython3",
   "version": "3.9.6"
  },
  "orig_nbformat": 4
 },
 "nbformat": 4,
 "nbformat_minor": 2
}
