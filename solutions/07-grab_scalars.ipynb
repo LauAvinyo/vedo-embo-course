{
 "cells": [
  {
   "cell_type": "code",
   "execution_count": 1,
   "metadata": {},
   "outputs": [],
   "source": [
    "from vedo import Picture, settings, show\n",
    "from vedo.applications import SplinePlotter\n",
    "\n",
    "# NOTE: Scipy must be installed!\n",
    "\n",
    "settings.default_backend = \"vtk\""
   ]
  },
  {
   "cell_type": "code",
   "execution_count": 2,
   "metadata": {},
   "outputs": [],
   "source": [
    "picture_path = \"../data/sox9_data/sox9_exp.jpg\""
   ]
  },
  {
   "cell_type": "code",
   "execution_count": 3,
   "metadata": {},
   "outputs": [],
   "source": [
    "pic = Picture(picture_path).bw();"
   ]
  },
  {
   "cell_type": "code",
   "execution_count": 4,
   "metadata": {},
   "outputs": [
    {
     "name": "stdout",
     "output_type": "stream",
     "text": [
      "\u001b[1m\u001b[32mAdded point: (396.3, 201.0, 2.512e-8)\u001b[0m\n",
      "\u001b[1m\u001b[32mAdded point: (533.7, 374.3, 2.512e-8)\u001b[0m\n",
      "\u001b[1m\u001b[32mAdded point: (454.1, 411.2, 2.512e-8)\u001b[0m\n",
      "\u001b[1m\u001b[32mAdded point: (218.3, 277.7, -2.263e-4)\u001b[0m\n",
      "\u001b[1m\u001b[32mAdded point: (241.0, 208.6, -2.263e-4)\u001b[0m\n",
      "\u001b[1m\u001b[32mAdded point: (386.9, 190.6, -2.263e-4)\u001b[0m\n"
     ]
    }
   ],
   "source": [
    "# NOTE: \n",
    "# Select the contour of the limb. \n",
    "# Click q.\n",
    "\n",
    "plt = SplinePlotter(pic)\n",
    "plt.show(mode=\"image\", zoom='tight')\n",
    "outline = plt.line\n",
    "plt.close()"
   ]
  },
  {
   "cell_type": "code",
   "execution_count": 6,
   "metadata": {},
   "outputs": [
    {
     "name": "stdout",
     "output_type": "stream",
     "text": [
      "Cutting with outline...\n"
     ]
    }
   ],
   "source": [
    "print(\"Cutting with outline...\")\n",
    "msh = pic.tomesh().cmap(\"viridis_r\")\n",
    "cut_msh = msh.clone().cut_with_point_loop(outline)\n"
   ]
  },
  {
   "cell_type": "code",
   "execution_count": 7,
   "metadata": {},
   "outputs": [],
   "source": [
    "cut_msh.interpolate_data_from(msh, n=3)\n",
    "show(cut_msh, outline, axes=1).close()"
   ]
  }
 ],
 "metadata": {
  "kernelspec": {
   "display_name": ".venv",
   "language": "python",
   "name": "python3"
  },
  "language_info": {
   "codemirror_mode": {
    "name": "ipython",
    "version": 3
   },
   "file_extension": ".py",
   "mimetype": "text/x-python",
   "name": "python",
   "nbconvert_exporter": "python",
   "pygments_lexer": "ipython3",
   "version": "3.9.6"
  },
  "orig_nbformat": 4
 },
 "nbformat": 4,
 "nbformat_minor": 2
}
