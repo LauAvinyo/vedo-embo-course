{
 "cells": [
  {
   "cell_type": "code",
   "execution_count": null,
   "metadata": {},
   "outputs": [],
   "source": [
    "from vedo import Picture, settings, show\n",
    "from vedo.applications import SplinePlotter\n",
    "\n",
    "# NOTE: Scipu must be installed!\n",
    "\n",
    "settings.default_backend = \"vtk\""
   ]
  },
  {
   "cell_type": "code",
   "execution_count": 10,
   "metadata": {},
   "outputs": [],
   "source": [
    "picture_path = \"../data/sox9_data/sox9_exp.jpg\""
   ]
  },
  {
   "cell_type": "code",
   "execution_count": 11,
   "metadata": {},
   "outputs": [],
   "source": [
    "pic = Picture(picture_path).bw();"
   ]
  },
  {
   "cell_type": "code",
   "execution_count": 14,
   "metadata": {},
   "outputs": [
    {
     "name": "stdout",
     "output_type": "stream",
     "text": [
      "\u001b[1m\u001b[32mAdded point: (296.9, 181.1, -2.263e-4)\u001b[0m\n",
      "\u001b[1m\u001b[32mAdded point: (348.0, 147.0, -2.263e-4)\u001b[0m\n",
      "\u001b[1m\u001b[32mAdded point: (446.5, 85.47, -2.263e-4)\u001b[0m\n",
      "\u001b[1m\u001b[32mAdded point: (639.7, 93.99, -2.263e-4)\u001b[0m\n",
      "\u001b[1m\u001b[32mAdded point: (755.2, 160.3, -2.263e-4)\u001b[0m\n",
      "\u001b[1m\u001b[32mAdded point: (814.0, 329.8, -2.263e-4)\u001b[0m\n",
      "\u001b[1m\u001b[32mAdded point: (740.1, 550.4, -2.263e-4)\u001b[0m\n",
      "\u001b[1m\u001b[32mAdded point: (616.0, 628.1, -2.263e-4)\u001b[0m\n",
      "\u001b[1m\u001b[32mAdded point: (411.5, 620.5, -2.263e-4)\u001b[0m\n",
      "\u001b[1m\u001b[32mAdded point: (291.2, 527.7, -2.263e-4)\u001b[0m\n",
      "\u001b[1m\u001b[32mAdded point: (171.0, 506.9, -2.263e-4)\u001b[0m\n"
     ]
    }
   ],
   "source": [
    "plt = SplinePlotter(pic)\n",
    "plt.show(mode=\"image\", zoom='tight')\n",
    "outline = plt.line\n",
    "plt.close()"
   ]
  },
  {
   "cell_type": "code",
   "execution_count": 15,
   "metadata": {},
   "outputs": [
    {
     "name": "stdout",
     "output_type": "stream",
     "text": [
      "Cutting with outline...\n"
     ]
    }
   ],
   "source": [
    "print(\"Cutting with outline...\")\n",
    "msh = pic.tomesh().cmap(\"viridis_r\")\n",
    "cut_msh = msh.clone().cut_with_point_loop(outline)\n"
   ]
  },
  {
   "cell_type": "code",
   "execution_count": 16,
   "metadata": {},
   "outputs": [],
   "source": [
    "cut_msh.interpolate_data_from(msh, n=3)\n",
    "show(cut_msh, outline, axes=1).close()"
   ]
  }
 ],
 "metadata": {
  "kernelspec": {
   "display_name": ".venv",
   "language": "python",
   "name": "python3"
  },
  "language_info": {
   "codemirror_mode": {
    "name": "ipython",
    "version": 3
   },
   "file_extension": ".py",
   "mimetype": "text/x-python",
   "name": "python",
   "nbconvert_exporter": "python",
   "pygments_lexer": "ipython3",
   "version": "3.9.6"
  },
  "orig_nbformat": 4
 },
 "nbformat": 4,
 "nbformat_minor": 2
}
