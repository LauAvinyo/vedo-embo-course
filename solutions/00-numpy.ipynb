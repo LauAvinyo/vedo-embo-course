{
 "cells": [
  {
   "cell_type": "code",
   "execution_count": null,
   "metadata": {},
   "outputs": [],
   "source": [
    "# Import numpy\n",
    "import numpy as np"
   ]
  },
  {
   "attachments": {},
   "cell_type": "markdown",
   "metadata": {},
   "source": [
    "# Numpy Basics "
   ]
  },
  {
   "attachments": {},
   "cell_type": "markdown",
   "metadata": {},
   "source": [
    "[The Documentation](https://numpy.org/doc/stable/user/)"
   ]
  },
  {
   "cell_type": "code",
   "execution_count": null,
   "metadata": {},
   "outputs": [],
   "source": [
    "# This is 1D array\n",
    "my_1d_array = np.array([1, 2, 3])  # [1, 2, 3] is a python list\n",
    "my_1d_array"
   ]
  },
  {
   "cell_type": "code",
   "execution_count": null,
   "metadata": {},
   "outputs": [],
   "source": [
    "# We can do 2D arrays from nested python lists\n",
    "my_2d_array = np.array([[1, 2], [3, 4]])\n",
    "my_2d_array"
   ]
  },
  {
   "cell_type": "code",
   "execution_count": null,
   "metadata": {},
   "outputs": [],
   "source": [
    "# Other ways to create arrays using numpy!\n",
    "n = 3 # Number of elements\n",
    "np.zeros(n)"
   ]
  },
  {
   "cell_type": "code",
   "execution_count": null,
   "metadata": {},
   "outputs": [],
   "source": [
    "np.zeros(n)"
   ]
  },
  {
   "cell_type": "code",
   "execution_count": null,
   "metadata": {},
   "outputs": [],
   "source": [
    "np.arange(n)"
   ]
  },
  {
   "cell_type": "code",
   "execution_count": null,
   "metadata": {},
   "outputs": [],
   "source": [
    "arr = np.array([[1, 2], [3, 4]])"
   ]
  },
  {
   "cell_type": "code",
   "execution_count": null,
   "metadata": {},
   "outputs": [],
   "source": [
    "ndim = arr.ndim\n",
    "size = arr.size\n",
    "r, c = arr.shape\n",
    "# Note that we are not using (). \n",
    "\n",
    "print(f\"The array `arr` has {ndim} dimensions. It has a total of {size} elements, {r} rows and {c} columns.\")"
   ]
  },
  {
   "cell_type": "code",
   "execution_count": null,
   "metadata": {},
   "outputs": [],
   "source": [
    "# We will try with a bigger array!\n",
    "arr = np.arange(6)"
   ]
  },
  {
   "cell_type": "code",
   "execution_count": null,
   "metadata": {},
   "outputs": [],
   "source": [
    "# Basic indexing\n",
    "arr[0], arr[-1], arr[[1, 3, 4]]"
   ]
  },
  {
   "cell_type": "code",
   "execution_count": null,
   "metadata": {},
   "outputs": [],
   "source": [
    "# Slicing\n",
    "arr[1:], arr[:-2], arr[1:-2]"
   ]
  },
  {
   "cell_type": "code",
   "execution_count": null,
   "metadata": {},
   "outputs": [],
   "source": [
    "# Mash indexing\n",
    "greater_than_1 = arr > 1 # Compare the array to 1\n",
    "print(f\"The mask is: {greater_than_1}\")\n",
    "\n",
    "# And we index using the mask\n",
    "arr[greater_than_1]"
   ]
  },
  {
   "cell_type": "code",
   "execution_count": null,
   "metadata": {},
   "outputs": [],
   "source": [
    "arr = np.array([[1, 2], [3, 4], [5, 6]])\n",
    "\n",
    "# Basic indexing\n",
    "arr[1, 0], arr[-1, -2], arr[[1, -1], [0, -2]]"
   ]
  },
  {
   "cell_type": "code",
   "execution_count": null,
   "metadata": {},
   "outputs": [],
   "source": [
    "# We can also use masks\n",
    "greater_than_1 = arr > 1\n",
    "arr[greater_than_1]"
   ]
  },
  {
   "cell_type": "code",
   "execution_count": null,
   "metadata": {},
   "outputs": [],
   "source": [
    "# Slicing\n",
    "\n",
    "arr = np.array([[1, 2], [3, 4], [5, 6]])\n",
    "arr[1:, ], arr[:, :-1]"
   ]
  },
  {
   "cell_type": "code",
   "execution_count": null,
   "metadata": {},
   "outputs": [],
   "source": [
    "# Using a bigger array: \n",
    "arr = np.arange(1, 25).reshape(4, 6)\n",
    "arr"
   ]
  },
  {
   "cell_type": "code",
   "execution_count": null,
   "metadata": {},
   "outputs": [],
   "source": [
    "arr[:3, 1:4]"
   ]
  },
  {
   "cell_type": "code",
   "execution_count": null,
   "metadata": {},
   "outputs": [],
   "source": [
    "arr[:-2, 3:]"
   ]
  },
  {
   "attachments": {},
   "cell_type": "markdown",
   "metadata": {},
   "source": [
    "##### 📚 Homework! :)\n",
    "\n",
    "1. Can you find on the docs a way to change the dimensions of an array?  \n",
    "*Hint: we want to change its shape.*\n",
    "\n",
    "2. Create the following arrays: \n",
    "    - Array that has same dimmensions as `my_2d_array` but filled with only ones. That is an ones array *like* `my_2d_array`.\n",
    "    - An array that the initial value is 3 and the end value is 10 with 8 *equaly spaced values*. \n",
    "    - A 3x3 diagonal matrix.\n",
    "\n",
    "3. Can you select only the rows (in 2d) if the second value of the row is > 10?\n",
    "\n",
    "Use the DOCS!\n",
    "\n"
   ]
  }
 ],
 "metadata": {
  "kernelspec": {
   "display_name": ".venv",
   "language": "python",
   "name": "python3"
  },
  "language_info": {
   "codemirror_mode": {
    "name": "ipython",
    "version": 3
   },
   "file_extension": ".py",
   "mimetype": "text/x-python",
   "name": "python",
   "nbconvert_exporter": "python",
   "pygments_lexer": "ipython3",
   "version": "3.9.6"
  },
  "orig_nbformat": 4
 },
 "nbformat": 4,
 "nbformat_minor": 2
}
