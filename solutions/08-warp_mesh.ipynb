{
 "cells": [
  {
   "cell_type": "code",
   "execution_count": 1,
   "metadata": {},
   "outputs": [],
   "source": [
    "from vedo import dataurl, Mesh, Arrows, show, settings\n",
    "\n",
    "settings.default_backend = \"vtk\""
   ]
  },
  {
   "cell_type": "code",
   "execution_count": 2,
   "metadata": {},
   "outputs": [
    {
     "data": {
      "text/html": [
       "<table>\n",
       "<tr>\n",
       "<td>\n",
       "<img src='data:image/png;base64,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'></img>\n",
       "</td>\n",
       "<td style='text-align: center; vertical-align: center;'><br/>\n",
       "<b><a href=\"https://vedo.embl.es/docs/vedo/mesh.html\" target=\"_blank\">vedo.mesh.Mesh</a></b><br/><code><i>(....embl.es/examples/data/man.vtk)</i></code>\n",
       "<table>\n",
       "<tr><td><b> bounds </b> <br/> (x/y/z) </td><td>-0.9169 ... 0.9169<br/>-0.3300 ... 0.2617<br/>-1.570 ... 1.685</td></tr>\n",
       "<tr><td><b> center of mass </b></td><td>(1.01e-10, 4.06e-11, 2.20e-11)</td></tr>\n",
       "<tr><td><b> average size </b></td><td>0.911</td></tr>\n",
       "<tr><td><b> nr. points&nbsp/&nbspfaces </b></td><td>24461&nbsp/&nbsp24459</td></tr>\n",
       "\n",
       "<tr><td><b> cell data array </b></td><td>MaterialIds</td></tr>\n",
       "</table>\n",
       "</table>"
      ],
      "text/plain": [
       "<vedo.mesh.Mesh at 0x7f153bc4b070>"
      ]
     },
     "execution_count": 2,
     "metadata": {},
     "output_type": "execute_result"
    }
   ],
   "source": [
    "# Load a mesh\n",
    "mesh = Mesh(dataurl+\"man.vtk\").color(\"white\")\n",
    "mesh"
   ]
  },
  {
   "cell_type": "code",
   "execution_count": 3,
   "metadata": {},
   "outputs": [
    {
     "data": {
      "text/html": [
       "<table>\n",
       "<tr>\n",
       "<td>\n",
       "<img src='data:image/png;base64,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'></img>\n",
       "</td>\n",
       "<td style='text-align: center; vertical-align: center;'><br/>\n",
       "<b><a href=\"https://vedo.embl.es/docs/vedo/mesh.html\" target=\"_blank\">vedo.mesh.Mesh</a></b><br/><code><i>(....embl.es/examples/data/man.vtk)</i></code>\n",
       "<table>\n",
       "<tr><td><b> bounds </b> <br/> (x/y/z) </td><td>-0.9070 ... 0.9041<br/>-0.3287 ... 0.2765<br/>-1.566 ... 1.691</td></tr>\n",
       "<tr><td><b> center of mass </b></td><td>(-3.62e-3, 0.0158, 0.0810)</td></tr>\n",
       "<tr><td><b> average size </b></td><td>0.945</td></tr>\n",
       "<tr><td><b> nr. points&nbsp/&nbspfaces </b></td><td>205&nbsp/&nbsp399</td></tr>\n",
       "\n",
       "\n",
       "</table>\n",
       "</table>"
      ],
      "text/plain": [
       "<vedo.mesh.Mesh at 0x7f153ba41a20>"
      ]
     },
     "execution_count": 3,
     "metadata": {},
     "output_type": "execute_result"
    }
   ],
   "source": [
    "# Create a heavily decimated copy with about 200 points\n",
    "# (to speed up the computation)\n",
    "mesh_dec = mesh.clone().triangulate().decimate(n=200)\n",
    "mesh_dec"
   ]
  },
  {
   "cell_type": "code",
   "execution_count": 5,
   "metadata": {},
   "outputs": [],
   "source": [
    "sources = [[0.9, 0.0, 0.2]]  # this point moves\n",
    "targets = [[1.2, 0.0, 0.4]]  # ...to this.\n",
    "for pt in mesh_dec.vertices:\n",
    "    if pt[0] < 0.3:          # while these pts don't move\n",
    "        sources.append(pt)   # (e.i. source = target)\n",
    "        targets.append(pt)"
   ]
  },
  {
   "cell_type": "code",
   "execution_count": 6,
   "metadata": {},
   "outputs": [
    {
     "data": {
      "text/html": [
       "<table>\n",
       "<tr>\n",
       "<td>\n",
       "<img src='data:image/png;base64,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'></img>\n",
       "</td>\n",
       "<td style='text-align: center; vertical-align: center;'><br/>\n",
       "<b><a href=\"https://vedo.embl.es/docs/vedo/mesh.html\" target=\"_blank\">vedo.mesh.Mesh</a></b><br/><code><i>(....embl.es/examples/data/man.vtk)</i></code>\n",
       "<table>\n",
       "<tr><td><b> bounds </b> <br/> (x/y/z) </td><td>-0.9177 ... 1.173<br/>-0.3300 ... 0.2617<br/>-1.570 ... 1.684</td></tr>\n",
       "<tr><td><b> center of mass </b></td><td>(0.0237, 4.06e-11, 0.0158)</td></tr>\n",
       "<tr><td><b> average size </b></td><td>0.935</td></tr>\n",
       "<tr><td><b> nr. points&nbsp/&nbspfaces </b></td><td>24461&nbsp/&nbsp24459</td></tr>\n",
       "\n",
       "<tr><td><b> cell data array </b></td><td>MaterialIds</td></tr>\n",
       "</table>\n",
       "</table>"
      ],
      "text/plain": [
       "<vedo.mesh.Mesh at 0x7f153ba42920>"
      ]
     },
     "execution_count": 6,
     "metadata": {},
     "output_type": "execute_result"
    }
   ],
   "source": [
    "# Warp the mesh\n",
    "mesh_warped = mesh.clone().warp(sources, targets)\n",
    "mesh_warped.c(\"blue\").wireframe()"
   ]
  },
  {
   "cell_type": "code",
   "execution_count": 7,
   "metadata": {},
   "outputs": [],
   "source": [
    "# Create the arrows representing the displacement\n",
    "arrow = Arrows(sources, targets)\n",
    "\n",
    "# Show the meshes and the arrow\n",
    "show(mesh, mesh_warped, arrow, axes=1).close()"
   ]
  },
  {
   "cell_type": "code",
   "execution_count": null,
   "metadata": {},
   "outputs": [],
   "source": []
  }
 ],
 "metadata": {
  "kernelspec": {
   "display_name": "Python 3 (ipykernel)",
   "language": "python",
   "name": "python3"
  },
  "language_info": {
   "codemirror_mode": {
    "name": "ipython",
    "version": 3
   },
   "file_extension": ".py",
   "mimetype": "text/x-python",
   "name": "python",
   "nbconvert_exporter": "python",
   "pygments_lexer": "ipython3",
   "version": "3.10.10"
  }
 },
 "nbformat": 4,
 "nbformat_minor": 2
}
