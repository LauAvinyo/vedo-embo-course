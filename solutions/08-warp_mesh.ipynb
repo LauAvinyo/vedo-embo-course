{
 "cells": [
  {
   "cell_type": "code",
   "execution_count": 1,
   "metadata": {},
   "outputs": [],
   "source": [
    "from vedo import dataurl, Mesh, Arrows, show, settings\n",
    "\n",
    "settings.default_backend = \"vtk\""
   ]
  },
  {
   "cell_type": "code",
   "execution_count": 2,
   "metadata": {},
   "outputs": [
    {
     "data": {
      "text/html": [
       "<table>\n",
       "<tr>\n",
       "<td>\n",
       "<img src='data:image/png;base64,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'></img>\n",
       "</td>\n",
       "<td style='text-align: center; vertical-align: center;'><br/>\n",
       "<b><a href=\"https://vedo.embl.es/docs/vedo/mesh.html\" target=\"_blank\">vedo.mesh.Mesh</a></b><br/><code><i>(....embl.es/examples/data/man.vtk)</i></code>\n",
       "<table>\n",
       "<tr><td><b> bounds </b> <br/> (x/y/z) </td><td>-0.9169 ... 0.9169<br/>-0.3300 ... 0.2617<br/>-1.570 ... 1.685</td></tr>\n",
       "<tr><td><b> center of mass </b></td><td>(1.01e-10, 4.06e-11, 2.20e-11)</td></tr>\n",
       "<tr><td><b> average size </b></td><td>0.911</td></tr>\n",
       "<tr><td><b> nr. points&nbsp/&nbspfaces </b></td><td>24461&nbsp/&nbsp24459</td></tr>\n",
       "\n",
       "<tr><td><b> cell data array </b></td><td>MaterialIds</td></tr>\n",
       "</table>\n",
       "</table>"
      ],
      "text/plain": [
       "<Mesh(0x119b122c0) at 0x163a3e4c0>"
      ]
     },
     "execution_count": 2,
     "metadata": {},
     "output_type": "execute_result"
    }
   ],
   "source": [
    "# Load a mesh\n",
    "mesh = Mesh(dataurl+\"man.vtk\").color(\"white\")\n",
    "mesh"
   ]
  },
  {
   "cell_type": "code",
   "execution_count": 4,
   "metadata": {},
   "outputs": [
    {
     "data": {
      "text/html": [
       "<table>\n",
       "<tr>\n",
       "<td>\n",
       "<img src='data:image/png;base64,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'></img>\n",
       "</td>\n",
       "<td style='text-align: center; vertical-align: center;'><br/>\n",
       "<b><a href=\"https://vedo.embl.es/docs/vedo/mesh.html\" target=\"_blank\">vedo.mesh.Mesh</a></b><br/><code><i>(....embl.es/examples/data/man.vtk)</i></code>\n",
       "<table>\n",
       "<tr><td><b> bounds </b> <br/> (x/y/z) </td><td>-0.9070 ... 0.9041<br/>-0.3287 ... 0.2765<br/>-1.566 ... 1.691</td></tr>\n",
       "<tr><td><b> center of mass </b></td><td>(-3.62e-3, 0.0158, 0.0810)</td></tr>\n",
       "<tr><td><b> average size </b></td><td>0.945</td></tr>\n",
       "<tr><td><b> nr. points&nbsp/&nbspfaces </b></td><td>205&nbsp/&nbsp399</td></tr>\n",
       "\n",
       "\n",
       "</table>\n",
       "</table>"
      ],
      "text/plain": [
       "<Mesh(0x163881d00) at 0x167180640>"
      ]
     },
     "execution_count": 4,
     "metadata": {},
     "output_type": "execute_result"
    }
   ],
   "source": [
    "# Create a heavily decimated copy with about 200 points\n",
    "# (to speed up the computation)\n",
    "mesh_dec = mesh.clone().triangulate().decimate(n=200)\n",
    "mesh_dec"
   ]
  },
  {
   "cell_type": "code",
   "execution_count": 5,
   "metadata": {},
   "outputs": [],
   "source": [
    "sources = [[0.9, 0.0, 0.2]]  # this point moves\n",
    "targets = [[1.2, 0.0, 0.4]]  # ...to this.\n",
    "for pt in mesh_dec.points():\n",
    "    if pt[0] < 0.3:          # while these pts don't move\n",
    "        sources.append(pt)   # (e.i. source = target)\n",
    "        targets.append(pt)"
   ]
  },
  {
   "cell_type": "code",
   "execution_count": 6,
   "metadata": {},
   "outputs": [
    {
     "data": {
      "text/html": [
       "<table>\n",
       "<tr>\n",
       "<td>\n",
       "<img src='data:image/png;base64,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'></img>\n",
       "</td>\n",
       "<td style='text-align: center; vertical-align: center;'><br/>\n",
       "<b><a href=\"https://vedo.embl.es/docs/vedo/mesh.html\" target=\"_blank\">vedo.mesh.Mesh</a></b><br/><code><i>(....embl.es/examples/data/man.vtk)</i></code>\n",
       "<table>\n",
       "<tr><td><b> bounds </b> <br/> (x/y/z) </td><td>-0.9177 ... 1.173<br/>-0.3300 ... 0.2617<br/>-1.570 ... 1.684</td></tr>\n",
       "<tr><td><b> center of mass </b></td><td>(0.0237, 4.06e-11, 0.0158)</td></tr>\n",
       "<tr><td><b> average size </b></td><td>0.935</td></tr>\n",
       "<tr><td><b> nr. points&nbsp/&nbspfaces </b></td><td>24461&nbsp/&nbsp24459</td></tr>\n",
       "\n",
       "<tr><td><b> cell data array </b></td><td>MaterialIds</td></tr>\n",
       "</table>\n",
       "</table>"
      ],
      "text/plain": [
       "<Mesh(0x119bf1700) at 0x167180340>"
      ]
     },
     "execution_count": 6,
     "metadata": {},
     "output_type": "execute_result"
    }
   ],
   "source": [
    "\n",
    "\n",
    "# Warp the mesh\n",
    "mesh_warped = mesh.clone().warp(sources, targets)\n",
    "mesh_warped.c(\"blue\").wireframe()\n"
   ]
  },
  {
   "cell_type": "code",
   "execution_count": 7,
   "metadata": {},
   "outputs": [],
   "source": [
    "# Create the arrows representing the displacement\n",
    "arrow = Arrows(sources, targets)\n",
    "\n",
    "# Show the meshes and the arrow\n",
    "show(mesh, mesh_warped, arrow, axes=1).close()"
   ]
  },
  {
   "cell_type": "code",
   "execution_count": null,
   "metadata": {},
   "outputs": [],
   "source": []
  }
 ],
 "metadata": {
  "kernelspec": {
   "display_name": ".venv",
   "language": "python",
   "name": "python3"
  },
  "language_info": {
   "codemirror_mode": {
    "name": "ipython",
    "version": 3
   },
   "file_extension": ".py",
   "mimetype": "text/x-python",
   "name": "python",
   "nbconvert_exporter": "python",
   "pygments_lexer": "ipython3",
   "version": "3.9.6"
  },
  "orig_nbformat": 4
 },
 "nbformat": 4,
 "nbformat_minor": 2
}
